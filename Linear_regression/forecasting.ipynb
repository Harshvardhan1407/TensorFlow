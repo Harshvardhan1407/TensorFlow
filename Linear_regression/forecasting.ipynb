{
 "cells": [
  {
   "cell_type": "code",
   "execution_count": 6,
   "metadata": {},
   "outputs": [
    {
     "name": "stdout",
     "output_type": "stream",
     "text": [
      "tensorflow version: 2.17.0\n"
     ]
    }
   ],
   "source": [
    "try:\n",
    "    import matplotlib.pyplot as plt\n",
    "    import numpy as np\n",
    "    import pandas as pd\n",
    "    import seaborn as sns\n",
    "    import tensorflow as tf\n",
    "    import sys\n",
    "    import os\n",
    "\n",
    "    # Add the main directory (where common.py is located) to the Python path\n",
    "    sys.path.append(os.path.abspath(os.path.join(os.getcwd(), '..')))\n",
    "    from common_functions import data_validation_filtering,kWh_validation\n",
    "    from tensorflow import keras\n",
    "    from tensorflow.keras import layers\n",
    "    print(\"tensorflow version:\",tf.__version__)\n",
    "    np.set_printoptions(precision=3, suppress=True)\n",
    "except Exception as e:\n",
    "    print(\"error in importing :\",e)"
   ]
  },
  {
   "cell_type": "code",
   "execution_count": 2,
   "metadata": {},
   "outputs": [],
   "source": [
    "raw_dataset = pd.read_csv(r\"C:\\Users\\HARSH\\Downloads/surbhi.csv\")\n",
    "df = raw_dataset.copy()"
   ]
  },
  {
   "cell_type": "code",
   "execution_count": 3,
   "metadata": {},
   "outputs": [
    {
     "name": "stdout",
     "output_type": "stream",
     "text": [
      "null: 0\n",
      "shape: (5000, 15)\n",
      "<class 'pandas.core.frame.DataFrame'>\n",
      "RangeIndex: 5000 entries, 0 to 4999\n",
      "Data columns (total 15 columns):\n",
      " #   Column     Non-Null Count  Dtype  \n",
      "---  ------     --------------  -----  \n",
      " 0    FlatID    5000 non-null   float64\n",
      " 1   kWh        5000 non-null   int64  \n",
      " 2   R_Voltage  5000 non-null   float64\n",
      " 3   Y_Voltage  5000 non-null   float64\n",
      " 4   B_Voltage  5000 non-null   float64\n",
      " 5   R_Current  5000 non-null   float64\n",
      " 6   Y_Current  5000 non-null   float64\n",
      " 7   B_Current  5000 non-null   float64\n",
      " 8   R_PF       5000 non-null   float64\n",
      " 9   Y_PF       5000 non-null   float64\n",
      " 10  B_PF       5000 non-null   float64\n",
      " 11  Frequency  5000 non-null   float64\n",
      " 12  Load_kW    5000 non-null   float64\n",
      " 13  Load_kVA   5000 non-null   float64\n",
      " 14  Date_Time  5000 non-null   object \n",
      "dtypes: float64(13), int64(1), object(1)\n",
      "memory usage: 586.1+ KB\n"
     ]
    }
   ],
   "source": [
    "print(\"null:\",df.isna().sum().sum())\n",
    "print(\"shape:\",df.shape)\n",
    "df.info()"
   ]
  },
  {
   "cell_type": "code",
   "execution_count": 4,
   "metadata": {},
   "outputs": [
    {
     "data": {
      "text/html": [
       "<div>\n",
       "<style scoped>\n",
       "    .dataframe tbody tr th:only-of-type {\n",
       "        vertical-align: middle;\n",
       "    }\n",
       "\n",
       "    .dataframe tbody tr th {\n",
       "        vertical-align: top;\n",
       "    }\n",
       "\n",
       "    .dataframe thead th {\n",
       "        text-align: right;\n",
       "    }\n",
       "</style>\n",
       "<table border=\"1\" class=\"dataframe\">\n",
       "  <thead>\n",
       "    <tr style=\"text-align: right;\">\n",
       "      <th></th>\n",
       "      <th>kWh</th>\n",
       "      <th>R_Voltage</th>\n",
       "      <th>Y_Voltage</th>\n",
       "      <th>B_Voltage</th>\n",
       "      <th>R_Current</th>\n",
       "      <th>Y_Current</th>\n",
       "      <th>B_Current</th>\n",
       "      <th>R_PF</th>\n",
       "      <th>Y_PF</th>\n",
       "      <th>B_PF</th>\n",
       "      <th>Frequency</th>\n",
       "      <th>Load_kW</th>\n",
       "      <th>Load_kVA</th>\n",
       "    </tr>\n",
       "    <tr>\n",
       "      <th>Date_Time</th>\n",
       "      <th></th>\n",
       "      <th></th>\n",
       "      <th></th>\n",
       "      <th></th>\n",
       "      <th></th>\n",
       "      <th></th>\n",
       "      <th></th>\n",
       "      <th></th>\n",
       "      <th></th>\n",
       "      <th></th>\n",
       "      <th></th>\n",
       "      <th></th>\n",
       "      <th></th>\n",
       "    </tr>\n",
       "  </thead>\n",
       "  <tbody>\n",
       "    <tr>\n",
       "      <th>2024-06-11 19:52:00</th>\n",
       "      <td>2150</td>\n",
       "      <td>232.4</td>\n",
       "      <td>230.9</td>\n",
       "      <td>230.7</td>\n",
       "      <td>0.08</td>\n",
       "      <td>0.58</td>\n",
       "      <td>0.06</td>\n",
       "      <td>1.0</td>\n",
       "      <td>0.82</td>\n",
       "      <td>1.00</td>\n",
       "      <td>50.00</td>\n",
       "      <td>0.13</td>\n",
       "      <td>0.15</td>\n",
       "    </tr>\n",
       "    <tr>\n",
       "      <th>2024-06-11 19:58:00</th>\n",
       "      <td>2150</td>\n",
       "      <td>232.6</td>\n",
       "      <td>230.8</td>\n",
       "      <td>230.8</td>\n",
       "      <td>0.08</td>\n",
       "      <td>0.58</td>\n",
       "      <td>0.06</td>\n",
       "      <td>1.0</td>\n",
       "      <td>0.81</td>\n",
       "      <td>0.92</td>\n",
       "      <td>49.96</td>\n",
       "      <td>0.13</td>\n",
       "      <td>0.15</td>\n",
       "    </tr>\n",
       "    <tr>\n",
       "      <th>2024-06-11 20:03:00</th>\n",
       "      <td>2150</td>\n",
       "      <td>234.0</td>\n",
       "      <td>231.8</td>\n",
       "      <td>232.1</td>\n",
       "      <td>0.08</td>\n",
       "      <td>0.58</td>\n",
       "      <td>0.06</td>\n",
       "      <td>1.0</td>\n",
       "      <td>0.81</td>\n",
       "      <td>0.92</td>\n",
       "      <td>50.04</td>\n",
       "      <td>0.13</td>\n",
       "      <td>0.15</td>\n",
       "    </tr>\n",
       "    <tr>\n",
       "      <th>2024-06-11 20:09:00</th>\n",
       "      <td>2150</td>\n",
       "      <td>233.4</td>\n",
       "      <td>231.8</td>\n",
       "      <td>231.8</td>\n",
       "      <td>0.08</td>\n",
       "      <td>0.58</td>\n",
       "      <td>0.06</td>\n",
       "      <td>1.0</td>\n",
       "      <td>0.81</td>\n",
       "      <td>0.92</td>\n",
       "      <td>50.03</td>\n",
       "      <td>0.13</td>\n",
       "      <td>0.15</td>\n",
       "    </tr>\n",
       "    <tr>\n",
       "      <th>2024-06-11 20:14:00</th>\n",
       "      <td>2150</td>\n",
       "      <td>233.5</td>\n",
       "      <td>231.7</td>\n",
       "      <td>231.9</td>\n",
       "      <td>0.09</td>\n",
       "      <td>0.58</td>\n",
       "      <td>0.06</td>\n",
       "      <td>1.0</td>\n",
       "      <td>0.81</td>\n",
       "      <td>0.92</td>\n",
       "      <td>49.98</td>\n",
       "      <td>0.13</td>\n",
       "      <td>0.15</td>\n",
       "    </tr>\n",
       "  </tbody>\n",
       "</table>\n",
       "</div>"
      ],
      "text/plain": [
       "                      kWh  R_Voltage  Y_Voltage  B_Voltage  R_Current  \\\n",
       "Date_Time                                                               \n",
       "2024-06-11 19:52:00  2150      232.4      230.9      230.7       0.08   \n",
       "2024-06-11 19:58:00  2150      232.6      230.8      230.8       0.08   \n",
       "2024-06-11 20:03:00  2150      234.0      231.8      232.1       0.08   \n",
       "2024-06-11 20:09:00  2150      233.4      231.8      231.8       0.08   \n",
       "2024-06-11 20:14:00  2150      233.5      231.7      231.9       0.09   \n",
       "\n",
       "                     Y_Current  B_Current  R_PF  Y_PF  B_PF  Frequency  \\\n",
       "Date_Time                                                                \n",
       "2024-06-11 19:52:00       0.58       0.06   1.0  0.82  1.00      50.00   \n",
       "2024-06-11 19:58:00       0.58       0.06   1.0  0.81  0.92      49.96   \n",
       "2024-06-11 20:03:00       0.58       0.06   1.0  0.81  0.92      50.04   \n",
       "2024-06-11 20:09:00       0.58       0.06   1.0  0.81  0.92      50.03   \n",
       "2024-06-11 20:14:00       0.58       0.06   1.0  0.81  0.92      49.98   \n",
       "\n",
       "                     Load_kW  Load_kVA  \n",
       "Date_Time                               \n",
       "2024-06-11 19:52:00     0.13      0.15  \n",
       "2024-06-11 19:58:00     0.13      0.15  \n",
       "2024-06-11 20:03:00     0.13      0.15  \n",
       "2024-06-11 20:09:00     0.13      0.15  \n",
       "2024-06-11 20:14:00     0.13      0.15  "
      ]
     },
     "execution_count": 4,
     "metadata": {},
     "output_type": "execute_result"
    }
   ],
   "source": [
    "df.drop(\" FlatID\",axis= 1,inplace= True)\n",
    "df['Date_Time'] = pd.to_datetime(df['Date_Time'],dayfirst=True)\n",
    "df.set_index(\"Date_Time\", drop= True, inplace= True)\n",
    "df.sort_index(inplace=True)\n",
    "df.head()"
   ]
  },
  {
   "cell_type": "code",
   "execution_count": 5,
   "metadata": {},
   "outputs": [
    {
     "ename": "NameError",
     "evalue": "name 'data_validation_filtering' is not defined",
     "output_type": "error",
     "traceback": [
      "\u001b[1;31m---------------------------------------------------------------------------\u001b[0m",
      "\u001b[1;31mNameError\u001b[0m                                 Traceback (most recent call last)",
      "Cell \u001b[1;32mIn[5], line 1\u001b[0m\n\u001b[1;32m----> 1\u001b[0m clean_df \u001b[38;5;241m=\u001b[39m \u001b[43mdata_validation_filtering\u001b[49m(df\u001b[38;5;241m.\u001b[39mcopy())\n\u001b[0;32m      2\u001b[0m final_df \u001b[38;5;241m=\u001b[39m kWh_validation(clean_df)\n\u001b[0;32m      3\u001b[0m \u001b[38;5;66;03m# print(\"null:\",final_df.isna().sum().sum())\u001b[39;00m\n",
      "\u001b[1;31mNameError\u001b[0m: name 'data_validation_filtering' is not defined"
     ]
    }
   ],
   "source": [
    "clean_df = data_validation_filtering(df.copy())\n",
    "final_df = kWh_validation(clean_df)\n",
    "# print(\"null:\",final_df.isna().sum().sum())\n",
    "final_df"
   ]
  },
  {
   "cell_type": "code",
   "execution_count": null,
   "metadata": {},
   "outputs": [],
   "source": [
    "column_indices = {name: i for i, name in enumerate(final_df.columns)}\n",
    "column_indices\n",
    "n = len(final_df)\n",
    "train_df = final_df[0:int(n*0.7)]\n",
    "val_df = final_df[int(n*0.7):int(n*0.9)]\n",
    "test_df = final_df[int(n*0.9):]\n",
    "\n",
    "num_features = final_df.shape[1]"
   ]
  },
  {
   "cell_type": "code",
   "execution_count": null,
   "metadata": {},
   "outputs": [],
   "source": [
    "train_df"
   ]
  },
  {
   "cell_type": "code",
   "execution_count": null,
   "metadata": {},
   "outputs": [],
   "source": [
    "val_df"
   ]
  },
  {
   "cell_type": "code",
   "execution_count": null,
   "metadata": {},
   "outputs": [],
   "source": [
    "test_df"
   ]
  },
  {
   "cell_type": "code",
   "execution_count": null,
   "metadata": {},
   "outputs": [],
   "source": [
    "train_df.describe().transpose()"
   ]
  },
  {
   "cell_type": "code",
   "execution_count": null,
   "metadata": {},
   "outputs": [],
   "source": [
    "train_features = train_df.copy()\n",
    "test_features = test_df.copy()\n",
    "\n",
    "train_labels = train_features.pop('consumed_unit')\n",
    "test_labels = test_features.pop('consumed_unit')"
   ]
  },
  {
   "cell_type": "code",
   "execution_count": null,
   "metadata": {},
   "outputs": [],
   "source": [
    "normalizer = tf.keras.layers.Normalization(axis=-1)"
   ]
  },
  {
   "cell_type": "code",
   "execution_count": null,
   "metadata": {},
   "outputs": [],
   "source": [
    "normalizer.adapt(np.array(train_features))"
   ]
  },
  {
   "cell_type": "code",
   "execution_count": null,
   "metadata": {},
   "outputs": [],
   "source": [
    "print(normalizer.mean.numpy())"
   ]
  },
  {
   "cell_type": "code",
   "execution_count": null,
   "metadata": {},
   "outputs": [],
   "source": [
    "first = np.array(train_features[:10])\n",
    "\n",
    "with np.printoptions(precision=2, suppress=True):\n",
    "  print('First example:\\n', first)\n",
    "  print()\n",
    "  print('Normalized:\\n', normalizer(first).numpy())"
   ]
  },
  {
   "cell_type": "code",
   "execution_count": null,
   "metadata": {},
   "outputs": [],
   "source": [
    "forecasting = np.array(train_features)\n",
    "\n",
    "forecasting_normalizer = layers.Normalization(axis=None)\n",
    "forecasting_normalizer.adapt(forecasting)"
   ]
  },
  {
   "cell_type": "code",
   "execution_count": null,
   "metadata": {},
   "outputs": [],
   "source": [
    "forecasting_model = tf.keras.Sequential([\n",
    "    forecasting_normalizer,\n",
    "    layers.Dense(units=1)\n",
    "])\n",
    "\n",
    "forecasting_model.summary()"
   ]
  },
  {
   "cell_type": "code",
   "execution_count": null,
   "metadata": {},
   "outputs": [],
   "source": [
    "forecasting_model.predict(train_features[:10])"
   ]
  },
  {
   "cell_type": "code",
   "execution_count": null,
   "metadata": {},
   "outputs": [],
   "source": [
    "forecasting_model.compile(\n",
    "    optimizer=tf.keras.optimizers.Adam(learning_rate=0.1),\n",
    "    loss='mean_absolute_error')"
   ]
  },
  {
   "cell_type": "code",
   "execution_count": null,
   "metadata": {},
   "outputs": [],
   "source": [
    "%%time\n",
    "history = forecasting_model.fit(\n",
    "    train_features,\n",
    "    train_labels,\n",
    "    epochs=100,\n",
    "    # Suppress logging.\n",
    "    verbose=0,\n",
    "    # Calculate validation results on 20% of the training data.\n",
    "    validation_split = 0.2)"
   ]
  },
  {
   "cell_type": "code",
   "execution_count": null,
   "metadata": {},
   "outputs": [],
   "source": [
    "hist = pd.DataFrame(history.history)\n",
    "hist['epoch'] = history.epoch\n",
    "hist.tail()"
   ]
  },
  {
   "cell_type": "code",
   "execution_count": null,
   "metadata": {},
   "outputs": [],
   "source": [
    "def plot_loss(history):\n",
    "    plt.plot(history.history['loss'], label='loss')\n",
    "    plt.plot(history.history['val_loss'], label='val_loss')\n",
    "    plt.ylim([0, 10])\n",
    "    plt.xlabel('Epoch')\n",
    "    plt.ylabel('Error [MPG]')\n",
    "    plt.legend()\n",
    "    plt.grid(True)\n",
    "plot_loss(history)"
   ]
  },
  {
   "cell_type": "code",
   "execution_count": null,
   "metadata": {},
   "outputs": [],
   "source": [
    "test_results = {}\n",
    "\n",
    "test_results['forecasting_model'] = forecasting_model.evaluate(\n",
    "    test_features,\n",
    "    test_labels, verbose=0)"
   ]
  },
  {
   "cell_type": "code",
   "execution_count": null,
   "metadata": {},
   "outputs": [],
   "source": [
    "x = tf.linspace(0.0, 250, 251)\n",
    "y = forecasting_model.predict(x)"
   ]
  },
  {
   "cell_type": "code",
   "execution_count": null,
   "metadata": {},
   "outputs": [],
   "source": [
    "linear_model = tf.keras.Sequential([\n",
    "    normalizer,\n",
    "    layers.Dense(units=1)\n",
    "])"
   ]
  },
  {
   "cell_type": "code",
   "execution_count": null,
   "metadata": {},
   "outputs": [],
   "source": [
    "linear_model.predict(train_features[:10])"
   ]
  },
  {
   "cell_type": "code",
   "execution_count": null,
   "metadata": {},
   "outputs": [],
   "source": [
    "linear_model.layers[1].kernel"
   ]
  },
  {
   "cell_type": "code",
   "execution_count": null,
   "metadata": {},
   "outputs": [],
   "source": [
    "linear_model.compile(\n",
    "    optimizer=tf.keras.optimizers.Adam(learning_rate=0.1),\n",
    "    loss='mean_absolute_error')"
   ]
  },
  {
   "cell_type": "code",
   "execution_count": null,
   "metadata": {},
   "outputs": [],
   "source": [
    "%%time\n",
    "history = linear_model.fit(\n",
    "    train_features,\n",
    "    train_labels,\n",
    "    epochs=100,\n",
    "    # Suppress logging.\n",
    "    verbose=0,\n",
    "    # Calculate validation results on 20% of the training data.\n",
    "    validation_split = 0.2)"
   ]
  },
  {
   "cell_type": "code",
   "execution_count": null,
   "metadata": {},
   "outputs": [],
   "source": [
    "test_results['linear_model'] = linear_model.evaluate(\n",
    "test_features, test_labels, verbose=0)"
   ]
  },
  {
   "cell_type": "code",
   "execution_count": null,
   "metadata": {},
   "outputs": [],
   "source": [
    "test_results"
   ]
  },
  {
   "cell_type": "code",
   "execution_count": null,
   "metadata": {},
   "outputs": [],
   "source": []
  }
 ],
 "metadata": {
  "kernelspec": {
   "display_name": "tfenv",
   "language": "python",
   "name": "python3"
  },
  "language_info": {
   "codemirror_mode": {
    "name": "ipython",
    "version": 3
   },
   "file_extension": ".py",
   "mimetype": "text/x-python",
   "name": "python",
   "nbconvert_exporter": "python",
   "pygments_lexer": "ipython3",
   "version": "3.11.6"
  }
 },
 "nbformat": 4,
 "nbformat_minor": 2
}
