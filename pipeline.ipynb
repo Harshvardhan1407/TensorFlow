{
 "cells": [
  {
   "cell_type": "code",
   "execution_count": 1,
   "metadata": {},
   "outputs": [
    {
     "name": "stdout",
     "output_type": "stream",
     "text": [
      "tf version: 2.9.0\n"
     ]
    }
   ],
   "source": [
    "import tensorflow as tf\n",
    "from tensorflow import keras\n",
    "from tensorflow.keras import layers \n",
    "print(\"tf version:\",tf.__version__)\n",
    "import matplotlib.pyplot as plt\n",
    "import numpy as np\n",
    "import pandas as pd\n",
    "import seaborn as sns\n",
    "from sklearn.metrics import r2_score\n",
    "from sklearn.inspection import permutation_importance\n",
    "from sklearn.metrics import mean_absolute_error, mean_squared_error, r2_score\n",
    "import tensorflow as tf\n",
    "from tensorflow.keras.models import Sequential # type: ignore\n",
    "from tensorflow.keras.layers import LSTM, Dense, Dropout # type: ignore\n",
    "from tensorflow.keras import regularizers # type: ignore\n",
    "import os \n",
    "import sys\n",
    "# from functions import data_ingstion, correlation_matrix, train_test_split, normalizer_function, compile_and_fit, training_score, evaluate, predict_func, tensor_convertor\n",
    "# from functions import data_ingstion, train_test_split, normalizer_function, compile_and_fit, training_score, evaluate, predict_func, tensor_convertor\n",
    "\n",
    "# Make NumPy printouts easier to read.\n",
    "np.set_printoptions(precision=3, suppress=True)"
   ]
  },
  {
   "cell_type": "code",
   "execution_count": 2,
   "metadata": {},
   "outputs": [
    {
     "name": "stdout",
     "output_type": "stream",
     "text": [
      "model trained :RandomForestRegressor\n"
     ]
    }
   ],
   "source": [
    "print(f\"model trained :RandomForestRegressor\")\n"
   ]
  },
  {
   "cell_type": "code",
   "execution_count": 2,
   "metadata": {},
   "outputs": [],
   "source": [
    "BATCH_SIZE = 32\n",
    "EPOCHS=10\n",
    "n_features = 16  # Number of features\n",
    "n_timesteps = 1\n"
   ]
  },
  {
   "cell_type": "code",
   "execution_count": 3,
   "metadata": {},
   "outputs": [
    {
     "name": "stdout",
     "output_type": "stream",
     "text": [
      "len df:  225623\n"
     ]
    }
   ],
   "source": [
    "def data_ingstion():\n",
    "    # try:\n",
    "        dfs = pd.read_parquet(r\"D:\\RND\\Machine_Learning\\Datasets/clean_dataset_ml_50_id.parquet\")\n",
    "        dfs.fillna(0,inplace=True)\n",
    "        df = dfs.copy()\n",
    "        df['creation_time'] = pd.to_datetime(df['creation_time'])\n",
    "        df.set_index(['creation_time'],drop= True, inplace= True)\n",
    "        # df[\"min\"] = df.index.minute\n",
    "        df.sort_index(inplace=True)\n",
    "        df.reset_index(drop=True,inplace=True)\n",
    "        dataframe_tensor = tf.convert_to_tensor(df, dtype=tf.float32)\n",
    "        reshaped_tensor = tf.reshape(dataframe_tensor, (dataframe_tensor.shape[0], n_timesteps, dataframe_tensor.shape[1]))\n",
    "        \n",
    "        # logger.info(f\"columns in df : {tuple(df.columns)}\")\n",
    "        # logger.info(f\"shape of dataframe : {tuple(df.shape)}\")\n",
    "        return reshaped_tensor\n",
    "    # except Exception as e:\n",
    "    #     logger.error(f\"error in data ingestion:{e}\",exc_info=True)\n",
    "df = data_ingstion()\n",
    "print(\"len df: \",len(df))"
   ]
  },
  {
   "cell_type": "code",
   "execution_count": 4,
   "metadata": {},
   "outputs": [
    {
     "name": "stdout",
     "output_type": "stream",
     "text": [
      "train_features shape:(203060, 1, 16),train_label shape: (203060,)\n",
      "test_features shape:(22563, 1, 16) ,test_label shape: (22563,)\n"
     ]
    }
   ],
   "source": [
    "\n",
    "def data_ingstion():\n",
    "    # try:\n",
    "        dfs = pd.read_parquet(r\"D:\\RND\\Machine_Learning\\Datasets/clean_dataset_ml_50_id.parquet\")\n",
    "        dfs.fillna(0,inplace=True)\n",
    "        df = dfs.copy()\n",
    "        df['creation_time'] = pd.to_datetime(df['creation_time'])\n",
    "        df.set_index(['creation_time'],drop= True, inplace= True)\n",
    "        # df[\"min\"] = df.index.minute\n",
    "        df.sort_index(inplace=True)\n",
    "        df.reset_index(drop=True,inplace=True)\n",
    "        # logger.info(f\"columns in df : {tuple(df.columns)}\")\n",
    "        # logger.info(f\"shape of dataframe : {tuple(df.shape)}\")\n",
    "        return df\n",
    "    # except Exception as e:\n",
    "    #     logger.error(f\"error in data ingestion:{e}\",exc_info=True)\n",
    "df = data_ingstion()\n",
    "\n",
    "def tensor_conversion(dataframe):\n",
    "    # try:\n",
    "        dataframe_tensor = tf.convert_to_tensor(dataframe, dtype=tf.float32)\n",
    "        return dataframe_tensor\n",
    "    # except Exception as e:\n",
    "    #     logger.error(f\"error in tensor_conversion: {e}\",exc_info=True)\n",
    "def train_test_split(df):\n",
    "    # try:\n",
    "        # column_indices = {name: i for i, name in enumerate(df.columns)}\n",
    "        n = len(df)\n",
    "        train_df = df[0:int(n*0.9)]\n",
    "        # val_df = df[int(n*0.7):int(n*0.9)]\n",
    "        test_df = df[int(n*0.9):]\n",
    "        train_features, test_features = train_df.copy(),test_df.copy() #,val_df.copy()\n",
    "        train_labels = train_features.pop('consumed_unit')\n",
    "        # val_labels = val_features.pop('consumed_unit')\n",
    "        test_labels = test_features.pop('consumed_unit')\n",
    "        train_features_array = train_features.to_numpy()\n",
    "        test_features_array = test_features.to_numpy()\n",
    "        train_features = train_features_array.reshape((train_features.shape[0], n_timesteps, n_features))\n",
    "        test_features = test_features_array.reshape((test_features.shape[0], n_timesteps, n_features))\n",
    "        train_features = tensor_conversion(train_features)\n",
    "        test_features = tensor_conversion(test_features)\n",
    "        train_labels = tensor_conversion(train_labels)\n",
    "        test_labels = tensor_conversion(test_labels)\n",
    "        print(f\"train_features shape:{train_features.shape},train_label shape: {train_labels.shape}\")\n",
    "        # print(f\"val_features shape:{val_features.shape},val_label shape: {val_labels.shape},val_labels type: {type(val_labels)}\")\n",
    "        print(f\"test_features shape:{test_features.shape} ,test_label shape: {test_labels.shape}\")\n",
    "        # logger.info(f\"data split done\")\n",
    "        # logger.info(f\"train_features shape:{train_features.shape},train_label shape: {train_labels.shape}\")\n",
    "        # logger.info(f\"val_features shape:{val_features.shape},val_label shape: {val_labels.shape},val_labels type: {type(val_labels)}\")\n",
    "        # logger.info(f\"test_features shape:{test_features.shape} ,test_label shape: {test_labels.shape}\")\n",
    "        return train_features,test_features,train_labels, test_labels\n",
    "    # except Exception as e:\n",
    "    #     logger.error(f\"error in split: {e}\",exc_info=True)\n",
    "train_features,test_features,train_labels,test_labels = train_test_split(df)\n",
    "def normalizer_function(df):\n",
    "    # try:\n",
    "        # df_mean, df_std = df.mean(), df.std()\n",
    "        # df = (df - df_mean) / df_std\n",
    "        normalizer = tf.keras.layers.Normalization(axis=-1)\n",
    "        normalizer.adapt(np.array(df))\n",
    "        return normalizer\n",
    "    \n",
    "    # except Exception as e:\n",
    "    #     logger.error(f\"error in normalizer: {e}\",exc_info=True)\n",
    "\n",
    "normalizer = normalizer_function(train_features)"
   ]
  },
  {
   "cell_type": "code",
   "execution_count": 41,
   "metadata": {},
   "outputs": [],
   "source": [
    "\n",
    "model = Sequential([\n",
    "    normalizer,\n",
    "    layers.LSTM(64, activation='relu', input_shape=(n_timesteps,n_features), return_sequences=True, kernel_regularizer=regularizers.l2(0.001)),\n",
    "    layers.Dropout(0.2),  # Dropout to reduce overfitting\n",
    "    layers.LSTM(32, activation='relu', return_sequences=False, kernel_regularizer=regularizers.l2(0.001)),\n",
    "    layers.Dropout(0.2),\n",
    "    layers.Dense(16, activation='relu', kernel_regularizer=regularizers.l2(0.001)),\n",
    "    layers.Dense(1)\n",
    "])"
   ]
  },
  {
   "cell_type": "code",
   "execution_count": 42,
   "metadata": {},
   "outputs": [],
   "source": [
    "\n",
    "def compile_and_fit(model,\n",
    "                    train_features = None,\n",
    "                    train_labels = None, \n",
    "                    patience=5,\n",
    "                    batch_size = None,\n",
    "                    MAX_EPOCHS = None,\n",
    "                    learning_rate = None,                    \n",
    "                    ):\n",
    "    try:\n",
    "        early_stopping = tf.keras.callbacks.EarlyStopping(monitor='val_loss',\n",
    "                                                            patience=patience,\n",
    "                                                            mode='min')\n",
    "\n",
    "        model.compile(loss=tf.keras.losses.MeanSquaredError(),\n",
    "                        optimizer=tf.keras.optimizers.Adam(learning_rate),\n",
    "                        metrics=[tf.keras.metrics.MeanAbsoluteError()])\n",
    "\n",
    "        history = model.fit(train_features,train_labels, epochs=MAX_EPOCHS,\n",
    "                            validation_split=0.2,\n",
    "                            callbacks=[early_stopping],\n",
    "                            verbose=1,\n",
    "                            )\n",
    "        return model, history\n",
    "    except Exception as e:\n",
    "        print(f\"error in compiling and fitting: {e},exc_info=True\")\n"
   ]
  },
  {
   "cell_type": "code",
   "execution_count": null,
   "metadata": {},
   "outputs": [],
   "source": [
    "history,model = compile_and_fit(model, train_features, train_labels, batch_size= BATCH_SIZE,MAX_EPOCHS = EPOCHS, learning_rate= 0.0001)\n"
   ]
  },
  {
   "cell_type": "code",
   "execution_count": 48,
   "metadata": {},
   "outputs": [],
   "source": [
    "history, model = model, history"
   ]
  },
  {
   "cell_type": "code",
   "execution_count": 50,
   "metadata": {},
   "outputs": [
    {
     "data": {
      "text/plain": [
       "{'loss': [5.994061470031738,\n",
       "  3.3696393966674805,\n",
       "  3.2344892024993896,\n",
       "  3.146559715270996,\n",
       "  3.105752944946289,\n",
       "  3.0853662490844727,\n",
       "  3.0372426509857178,\n",
       "  3.027982711791992,\n",
       "  3.0132648944854736,\n",
       "  2.983635187149048],\n",
       " 'mean_absolute_error': [1.142689824104309,\n",
       "  0.7851887345314026,\n",
       "  0.7574859261512756,\n",
       "  0.7408820986747742,\n",
       "  0.7325731515884399,\n",
       "  0.7250856757164001,\n",
       "  0.7190268039703369,\n",
       "  0.7156286239624023,\n",
       "  0.7108430862426758,\n",
       "  0.709140419960022],\n",
       " 'val_loss': [2.7493815422058105,\n",
       "  2.4497549533843994,\n",
       "  2.349773645401001,\n",
       "  2.3019001483917236,\n",
       "  2.2889792919158936,\n",
       "  2.2642595767974854,\n",
       "  2.2585880756378174,\n",
       "  2.252678155899048,\n",
       "  2.2468175888061523,\n",
       "  2.236602544784546],\n",
       " 'val_mean_absolute_error': [0.7910307049751282,\n",
       "  0.6719769835472107,\n",
       "  0.6264499425888062,\n",
       "  0.6032987833023071,\n",
       "  0.6110283136367798,\n",
       "  0.6024049520492554,\n",
       "  0.5967060923576355,\n",
       "  0.5962456464767456,\n",
       "  0.6013361215591431,\n",
       "  0.5959300994873047]}"
      ]
     },
     "execution_count": 50,
     "metadata": {},
     "output_type": "execute_result"
    }
   ],
   "source": [
    "history.history"
   ]
  },
  {
   "cell_type": "code",
   "execution_count": null,
   "metadata": {},
   "outputs": [],
   "source": []
  },
  {
   "cell_type": "code",
   "execution_count": null,
   "metadata": {},
   "outputs": [],
   "source": []
  },
  {
   "cell_type": "code",
   "execution_count": null,
   "metadata": {},
   "outputs": [],
   "source": []
  },
  {
   "cell_type": "code",
   "execution_count": null,
   "metadata": {},
   "outputs": [],
   "source": []
  },
  {
   "cell_type": "code",
   "execution_count": null,
   "metadata": {},
   "outputs": [],
   "source": []
  },
  {
   "cell_type": "code",
   "execution_count": 9,
   "metadata": {},
   "outputs": [],
   "source": [
    "train_features_array = train_features.to_numpy()\n",
    "test_features_array = test_features.to_numpy()\n",
    "n_timesteps = 1  # Each sample has 1 timestep (since features are already lagged)\n",
    "n_features = 16  # Number of features\n",
    "\n",
    "X_train = train_features_array.reshape((train_features.shape[0], n_timesteps, n_features))\n",
    "X_test = test_features_array.reshape((test_features.shape[0], n_timesteps, n_features))"
   ]
  },
  {
   "cell_type": "code",
   "execution_count": null,
   "metadata": {},
   "outputs": [],
   "source": [
    "train_features.to_numpy()[0].shape[0]"
   ]
  },
  {
   "cell_type": "code",
   "execution_count": null,
   "metadata": {},
   "outputs": [],
   "source": [
    "X_train.shape"
   ]
  },
  {
   "cell_type": "code",
   "execution_count": 54,
   "metadata": {},
   "outputs": [],
   "source": [
    "\"\"\"simple_version\"\"\"\n",
    "# model = keras.Sequential([\n",
    "#       normalizer,\n",
    "#       layers.Dense(64, activation='relu',input_shape=(16,)),\n",
    "#       layers.Dense(32, activation='relu'),\n",
    "#       layers.Dense(16, activation='relu'),\n",
    "#       layers.Dense(1)])\n",
    "\n",
    "\"\"\" sequential better version\"\"\"\n",
    "input_shape = (16,)\n",
    "# model = keras.Sequential([\n",
    "#     normalizer,\n",
    "#     layers.Dense(64, activation='relu', input_shape=input_shape, kernel_regularizer=regularizers.l2(0.001)),\n",
    "#     layers.Dense(32, activation='relu', kernel_regularizer=regularizers.l2(0.001)),\n",
    "#     layers.Dense(16, activation='relu', kernel_regularizer=regularizers.l2(0.001)),\n",
    "#     layers.Dense(1)\n",
    "# ])\n",
    "\"\"\"lstm basic version\"\"\"\n",
    "# model = tf.keras.models.Sequential([\n",
    "#     tf.keras.layers.Normalization(axis=-1, input_shape=input_shape),\n",
    "#     tf.keras.layers.LSTM(64, activation='relu', return_sequences=True),\n",
    "#     tf.keras.layers.Dropout(0.2),\n",
    "#     tf.keras.layers.LSTM(64, activation='relu'),\n",
    "#     tf.keras.layers.Dropout(0.2),\n",
    "#     tf.keras.layers.Dense(32, activation='relu'),\n",
    "#     tf.keras.layers.Dense(1)\n",
    "# ])\n",
    "\n",
    "\"\"\"lstm better version\"\"\"\n",
    "# Reshape data for LSTM\n",
    "train_features_array = train_features.to_numpy()\n",
    "test_features_array = test_features.to_numpy()\n",
    "n_timesteps = 1  # Each sample has 1 timestep (since features are already lagged)\n",
    "n_features = 16  # Number of features\n",
    "\n",
    "X_train = train_features_array.reshape((train_features.shape[0], n_timesteps, n_features))\n",
    "X_test = test_features_array.reshape((test_features.shape[0], n_timesteps, n_features))\n",
    "\n",
    "# Define LSTM model\n",
    "model = Sequential([\n",
    "    layers.LSTM(64, activation='relu', input_shape=(n_timesteps, n_features), return_sequences=True, kernel_regularizer=regularizers.l2(0.001)),\n",
    "    layers.Dropout(0.2),  # Dropout to reduce overfitting\n",
    "    layers.LSTM(32, activation='relu', return_sequences=False, kernel_regularizer=regularizers.l2(0.001)),\n",
    "    layers.Dropout(0.2),\n",
    "    layers.Dense(16, activation='relu', kernel_regularizer=regularizers.l2(0.001)),\n",
    "    layers.Dense(1)\n",
    "])\n",
    "\n"
   ]
  },
  {
   "cell_type": "code",
   "execution_count": 55,
   "metadata": {},
   "outputs": [],
   "source": [
    "# Create a callback that saves the model's weights\n",
    "# checkpoint_path = \"training_1/cp.ckpt\"\n",
    "# checkpoint_dir = os.path.dirname(checkpoint_path)\n",
    "def compile_and_fit(model,\n",
    "                    train_features = train_features,\n",
    "                    train_labels = train_labels, \n",
    "                    patience=5,\n",
    "                    batch_size = None,\n",
    "                    MAX_EPOCHS = 100):\n",
    "        \n",
    "    # checkpoint_path = \"training_1/cp.ckpt\"\n",
    "    # checkpoint_dir = os.path.dirname(checkpoint_path)\n",
    "    early_stopping = tf.keras.callbacks.EarlyStopping(monitor='val_loss',\n",
    "                                                        patience=patience,\n",
    "                                                        mode='min',\n",
    "                                                        restore_best_weights=True)\n",
    "    # cp_callback = tf.keras.callbacks.ModelCheckpoint(filepath=checkpoint_path,\n",
    "    #                                              save_weights_only=True,\n",
    "    #                                              verbose=1)\n",
    "\n",
    "    model.compile(loss=tf.keras.losses.MeanSquaredError(),\n",
    "                    optimizer=tf.keras.optimizers.Adam(0.0001),\n",
    "                    metrics=[tf.keras.metrics.MeanAbsoluteError()])\n",
    "\n",
    "    history = model.fit(train_features,train_labels, epochs=MAX_EPOCHS,\n",
    "                        validation_split=0.2,\n",
    "                        # callbacks=[\n",
    "                            # early_stopping,\n",
    "                            # cp_callback],  # Combine callbacks in a single list\n",
    "                        verbose=1,\n",
    "                        )\n",
    "           \n",
    "    return history, model\n"
   ]
  },
  {
   "cell_type": "code",
   "execution_count": null,
   "metadata": {},
   "outputs": [],
   "source": [
    "history,model = compile_and_fit(model,X_train,train_labels,batch_size= 16)"
   ]
  },
  {
   "cell_type": "code",
   "execution_count": null,
   "metadata": {},
   "outputs": [],
   "source": [
    "def compile_and_fit(model,\n",
    "                    train_features,\n",
    "                    train_labels, \n",
    "                    patience=5,\n",
    "                    batch_size=None,\n",
    "                    MAX_EPOCHS=100):\n",
    "        \n",
    "    early_stopping = tf.keras.callbacks.EarlyStopping(\n",
    "        monitor='val_loss',\n",
    "        patience=patience,\n",
    "        mode='min',\n",
    "        restore_best_weights=True\n",
    "    )\n",
    "    cp_callback = tf.keras.callbacks.ModelCheckpoint(\n",
    "        filepath=checkpoint_path,\n",
    "        save_weights_only=True,\n",
    "        verbose=1\n",
    "    )\n",
    "\n",
    "    model.compile(\n",
    "        loss=tf.keras.losses.MeanSquaredError(),\n",
    "        optimizer=tf.keras.optimizers.Adam(0.0001),\n",
    "        metrics=[tf.keras.metrics.MeanAbsoluteError()]\n",
    "    )\n",
    "\n",
    "    history = model.fit(\n",
    "        train_features,\n",
    "        train_labels,\n",
    "        epochs=MAX_EPOCHS,\n",
    "        validation_split=0.2,\n",
    "        callbacks=[early_stopping, cp_callback],\n",
    "        verbose=1,\n",
    "        batch_size=batch_size  # Ensure batch_size is passed if needed\n",
    "    )\n",
    "           \n",
    "    return history, model\n",
    "\n",
    "history, model = compile_and_fit(model, train_features=X_train, train_labels=train_labels, batch_size=16)\n"
   ]
  },
  {
   "cell_type": "code",
   "execution_count": null,
   "metadata": {},
   "outputs": [],
   "source": []
  },
  {
   "cell_type": "code",
   "execution_count": 51,
   "metadata": {},
   "outputs": [
    {
     "data": {
      "image/png": "[encoded data removed]",
      "text/plain": [
       "<Figure size 640x480 with 1 Axes>"
      ]
     },
     "metadata": {},
     "output_type": "display_data"
    }
   ],
   "source": [
    "def plot_loss(history):\n",
    "    plt.plot(history.history['loss'], label='loss')\n",
    "    plt.plot(history.history['val_loss'], label='val_loss')\n",
    "    plt.ylim([0, 10])\n",
    "    plt.xlabel('Epoch')\n",
    "    plt.ylabel('Error')\n",
    "    plt.legend()\n",
    "    plt.grid(True)\n",
    "  \n",
    "plot_loss(history)"
   ]
  },
  {
   "cell_type": "code",
   "execution_count": 52,
   "metadata": {},
   "outputs": [
    {
     "name": "stdout",
     "output_type": "stream",
     "text": [
      "706/706 - 1s - loss: 2.9528 - mean_absolute_error: 0.6414 - 585ms/epoch - 829us/step\n",
      "Untrained model, accuracy: 64.14%\n"
     ]
    }
   ],
   "source": [
    "\n",
    "# Evaluate the model\n",
    "loss, acc = model.evaluate(test_features, test_labels, verbose=2)\n",
    "print(\"Untrained model, accuracy: {:5.2f}%\".format(100 * acc))"
   ]
  },
  {
   "cell_type": "code",
   "execution_count": 54,
   "metadata": {},
   "outputs": [],
   "source": [
    "def training_score(history):\n",
    "    print(f\"training_score:loss:{history.history['loss'][-1]:.3f},mae:{history.history['mean_absolute_error'][-1]:.3f}\")"
   ]
  },
  {
   "cell_type": "code",
   "execution_count": 55,
   "metadata": {},
   "outputs": [
    {
     "name": "stdout",
     "output_type": "stream",
     "text": [
      "training_score:loss:2.984,mae:0.709\n"
     ]
    }
   ],
   "source": [
    "def evaluate(model,test_features= test_features,test_labels= test_labels):\n",
    "    score = model.evaluate(val_features,val_labels,verbose=0)\n",
    "    print(\"val_score:\",score)\n",
    "    return score\n",
    "training_score(history)\n",
    "# score = evaluate(model)    "
   ]
  },
  {
   "cell_type": "code",
   "execution_count": 58,
   "metadata": {},
   "outputs": [
    {
     "name": "stdout",
     "output_type": "stream",
     "text": [
      "22563/22563 [==============================] - 16s 693us/step\n",
      "<class 'numpy.ndarray'>\n",
      "mae: 0.641\n",
      "mse: 2.856\n"
     ]
    }
   ],
   "source": [
    "def prediction(model, input_data,input_labels=None,verbose=1):\n",
    "    y_pred = model.predict(input_data,verbose)\n",
    "    print(type(y_pred))\n",
    "    mae = mean_absolute_error(input_labels, y_pred)\n",
    "    mse = mean_squared_error(input_labels, y_pred)\n",
    "    # r2 = r2_score(input_labels, y_pred)\n",
    "\n",
    "    print(f\"mae: {mae:.3f}\")\n",
    "    print(f\"mse: {mse:.3f}\")\n",
    "    # print(f\"R2: {r2:.3f}\")\n",
    "    return y_pred\n",
    "predicted_value = prediction(model,input_data=test_features,input_labels=test_labels)"
   ]
  },
  {
   "cell_type": "code",
   "execution_count": 59,
   "metadata": {},
   "outputs": [
    {
     "data": {
      "image/png": "[encoded data removed]",
      "text/plain": [
       "<Figure size 640x480 with 1 Axes>"
      ]
     },
     "metadata": {},
     "output_type": "display_data"
    }
   ],
   "source": [
    "x = np.arange(len(predicted_value))\n",
    "# start = 40\n",
    "values = 50\n",
    "x = np.arange(values)\n",
    "plt.scatter(x, predicted_value[:values], label='Predicted Values')\n",
    "plt.scatter(x, test_labels[:values], label='Actual Values', color='red')\n",
    "plt.xlabel('Index')\n",
    "plt.ylabel('Value')\n",
    "plt.title('Predicted vs. Actual Values')\n",
    "plt.legend()\n",
    "plt.show()\n"
   ]
  },
  {
   "cell_type": "code",
   "execution_count": null,
   "metadata": {},
   "outputs": [],
   "source": []
  },
  {
   "cell_type": "code",
   "execution_count": null,
   "metadata": {},
   "outputs": [],
   "source": []
  },
  {
   "cell_type": "code",
   "execution_count": null,
   "metadata": {},
   "outputs": [],
   "source": []
  },
  {
   "cell_type": "code",
   "execution_count": null,
   "metadata": {},
   "outputs": [],
   "source": [
    "first_dense_layer = model.layers[1]  \n",
    "weights, biases = first_dense_layer.get_weights()\n",
    "print(\"Weights shape:\", weights.shape)\n",
    "feature_importance = np.abs(weights).mean(axis=1)\n",
    "for i, importance in enumerate(feature_importance):\n",
    "    print(f\"Feature {train_features.columns[i]}: Importance {importance}\")"
   ]
  },
  {
   "cell_type": "code",
   "execution_count": null,
   "metadata": {},
   "outputs": [],
   "source": [
    "def custom_scorer(estimator, X, y):\n",
    "    y_pred = estimator.predict(X)\n",
    "    return r2_score(y, y_pred)\n",
    "result = permutation_importance(model, test_features, test_labels, \n",
    "                                n_repeats=10, random_state=42, \n",
    "                                scoring=custom_scorer,\n",
    "                                verbose=1)\n",
    "sorted_idx = result.importances_mean.argsort()\n",
    "for i in sorted_idx[::-1]:\n",
    "    print(f\"Feature {train_features.columns[i]}: Importance {result.importances_mean[i]:.8f}\")"
   ]
  },
  {
   "cell_type": "code",
   "execution_count": 42,
   "metadata": {},
   "outputs": [],
   "source": [
    "\n",
    "# Save the entire model as a `.keras` zip archive.\n",
    "model.save('load_forecasting_lstm_model.keras')"
   ]
  },
  {
   "cell_type": "code",
   "execution_count": null,
   "metadata": {},
   "outputs": [],
   "source": [
    "new_model = tf.keras.models.load_model('load_forecasting_model.keras')\n",
    "\n",
    "# Show the model architecture\n",
    "new_model.summary()"
   ]
  },
  {
   "cell_type": "code",
   "execution_count": 44,
   "metadata": {},
   "outputs": [],
   "source": [
    "\n",
    "model = keras.Sequential([\n",
    "      normalizer,\n",
    "      layers.Dense(64, activation='relu',input_shape=(17,)),\n",
    "      layers.Dense(64, activation='relu'),\n",
    "      layers.Dense(1)])\n",
    "\n",
    "model.compile(loss='mean_absolute_error',\n",
    "      # optimizer=tf.keras.optimizers.SGD(learning_rate=0.01, momentum=0.9),\n",
    "      optimizer=tf.keras.optimizers.Adam(0.001),\n",
    "      metrics=['mean_squared_error',])\n"
   ]
  },
  {
   "cell_type": "markdown",
   "metadata": {},
   "source": [
    "## with SGD"
   ]
  },
  {
   "cell_type": "code",
   "execution_count": null,
   "metadata": {},
   "outputs": [],
   "source": [
    "history = model.fit(train_features, train_labels, epochs=10, batch_size=32, validation_split=0.2)"
   ]
  },
  {
   "cell_type": "markdown",
   "metadata": {},
   "source": [
    "### with adam"
   ]
  },
  {
   "cell_type": "code",
   "execution_count": null,
   "metadata": {},
   "outputs": [],
   "source": [
    "history = model.fit(train_features, train_labels, epochs=10, batch_size=32, validation_split=0.2)\n"
   ]
  },
  {
   "cell_type": "code",
   "execution_count": null,
   "metadata": {},
   "outputs": [],
   "source": [
    "model.summary()"
   ]
  },
  {
   "cell_type": "code",
   "execution_count": null,
   "metadata": {},
   "outputs": [],
   "source": []
  }
 ],
 "metadata": {
  "kernelspec": {
   "display_name": "tf",
   "language": "python",
   "name": "python3"
  },
  "language_info": {
   "codemirror_mode": {
    "name": "ipython",
    "version": 3
   },
   "file_extension": ".py",
   "mimetype": "text/x-python",
   "name": "python",
   "nbconvert_exporter": "python",
   "pygments_lexer": "ipython3",
   "version": "3.9.19"
  }
 },
 "nbformat": 4,
 "nbformat_minor": 2
}
